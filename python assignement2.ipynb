{
 "cells": [
  {
   "cell_type": "code",
   "execution_count": 75,
   "id": "0e0ed042",
   "metadata": {},
   "outputs": [
    {
     "name": "stdout",
     "output_type": "stream",
     "text": [
      "*\n",
      "**\n",
      "***\n",
      "****\n",
      "*****\n",
      "****\n",
      "***\n",
      "**\n",
      "*\n",
      "\n"
     ]
    }
   ],
   "source": [
    "n=5\n",
    "for i in range(n):\n",
    "        print(\"*\"*(i+1))      \n",
    "for j in range(n):       \n",
    "         print(\"*\"*(n-j-1))\n",
    "   \n",
    "        "
   ]
  },
  {
   "cell_type": "code",
   "execution_count": 9,
   "id": "87599f2d",
   "metadata": {},
   "outputs": [
    {
     "name": "stdout",
     "output_type": "stream",
     "text": [
      "Enter the string:ineuron\n",
      "string is: ineuron\n",
      "reverse of string is: norueni\n"
     ]
    }
   ],
   "source": [
    "a= input(\"Enter the string:\")\n",
    "print(\"string is:\",a)\n",
    "print(\"reverse of string is:\",a[::-1])"
   ]
  },
  {
   "cell_type": "code",
   "execution_count": null,
   "id": "e70f23ee",
   "metadata": {},
   "outputs": [],
   "source": []
  },
  {
   "cell_type": "code",
   "execution_count": null,
   "id": "26aa2411",
   "metadata": {},
   "outputs": [],
   "source": []
  }
 ],
 "metadata": {
  "kernelspec": {
   "display_name": "Python 3",
   "language": "python",
   "name": "python3"
  },
  "language_info": {
   "codemirror_mode": {
    "name": "ipython",
    "version": 3
   },
   "file_extension": ".py",
   "mimetype": "text/x-python",
   "name": "python",
   "nbconvert_exporter": "python",
   "pygments_lexer": "ipython3",
   "version": "3.8.8"
  }
 },
 "nbformat": 4,
 "nbformat_minor": 5
}
